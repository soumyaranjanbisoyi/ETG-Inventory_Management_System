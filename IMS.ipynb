{
 "cells": [
  {
   "cell_type": "code",
   "execution_count": 1,
   "id": "c8aed6bc",
   "metadata": {},
   "outputs": [],
   "source": [
    "import json\n",
    "import time"
   ]
  },
  {
   "cell_type": "code",
   "execution_count": 3,
   "id": "da2f9f8a",
   "metadata": {},
   "outputs": [
    {
     "name": "stdout",
     "output_type": "stream",
     "text": [
      "Welcome to our Store\n",
      "@@@@@@@@@@@@@@@@@@@@@@@@@@@@@@@@@@@@@@@\n",
      "HERE IS OUR MENU BAR\n",
      "product_id  product_name\n",
      "\n",
      "101            chips\n",
      "102            kitkat\n",
      "103            dairymilk\n",
      "104            biscuit\n",
      "105            jaljira\n",
      "106            facewash\n",
      "107            soap\n",
      "108            brush\n",
      "109            toothpaste\n",
      "110            toungcleaner\n",
      "111            samosa\n",
      "112            thumsup\n",
      "113            fanta\n",
      "114            cake\n",
      "115            icecream\n",
      "116            videogame\n",
      "117            umbrella\n",
      "118            fan\n",
      "119            bottle\n",
      "120            oil\n",
      "121            sugar\n",
      "122            salt\n",
      "123            fivestar\n",
      "124            keyboard\n",
      "125            noodles\n",
      "126            roll\n",
      "127            maaza\n",
      "128            headphone\n",
      "129            burger\n",
      "130            pizza\n",
      "131            sprite\n",
      "Enter the Product_id:104\n",
      "Enter the quantity you want to buy:6\n",
      "Product: biscuit\n",
      "Price: 40\n",
      "#######################################\n",
      "Your Bill is under Processing!!!!!!\n",
      "Billing Amount: 240\n",
      "*********************\n",
      "$$$$$44$$$ purchase time: Sun Sep  5 20:46:17 2021 $$$$$$$$$$$\n"
     ]
    },
    {
     "data": {
      "text/plain": [
       "'{\"1\": {\"prod\": \"104\", \"quantity\": 6, \"amount\": 240}, \"2\": {\"prod\": \"104\", \"quantity\": 6, \"amount\": 240}, \"3\": {\"prod\": \"104\", \"quantity\": 6, \"amount\": 240}, \"4\": {\"prod\": \"104\", \"quantity\": 6, \"amount\": 240}, \"5\": {\"prod\": \"104\", \"quantity\": 6, \"amount\": 240}, \"6\": {\"prod\": \"104\", \"quantity\": 6, \"amount\": 240}, \"7\": {\"prod\": \"104\", \"quantity\": 6, \"amount\": 240}, \"8\": {\"prod\": \"104\", \"quantity\": 6, \"amount\": 240}, \"9\": {\"prod\": \"104\", \"quantity\": 6, \"amount\": 240}, \"10\": {\"prod\": \"104\", \"quantity\": 6, \"amount\": 240}, \"11\": {\"prod\": \"104\", \"quantity\": 6, \"amount\": 240}, \"12\": {\"prod\": \"104\", \"quantity\": 6, \"amount\": 240}, \"13\": {\"prod\": \"104\", \"quantity\": 6, \"amount\": 240}, \"14\": {\"prod\": \"104\", \"quantity\": 6, \"amount\": 240}, \"15\": {\"prod\": \"104\", \"quantity\": 6, \"amount\": 240}, \"16\": {\"prod\": \"104\", \"quantity\": 6, \"amount\": 240}, \"17\": {\"prod\": \"104\", \"quantity\": 6, \"amount\": 240}, \"18\": {\"prod\": \"104\", \"quantity\": 6, \"amount\": 240}, \"19\": {\"prod\": \"104\", \"quantity\": 6, \"amount\": 240}, \"20\": {\"prod\": \"104\", \"quantity\": 6, \"amount\": 240}, \"21\": {\"prod\": \"104\", \"quantity\": 6, \"amount\": 240}, \"22\": {\"prod\": \"104\", \"quantity\": 6, \"amount\": 240}, \"23\": {\"prod\": \"104\", \"quantity\": 6, \"amount\": 240}, \"24\": {\"prod\": \"104\", \"quantity\": 6, \"amount\": 240}, \"25\": {\"prod\": \"104\", \"quantity\": 6, \"amount\": 240}, \"26\": {\"prod\": \"104\", \"quantity\": 6, \"amount\": 240}, \"27\": {\"prod\": \"104\", \"quantity\": 6, \"amount\": 240}, \"28\": {\"prod\": \"104\", \"quantity\": 6, \"amount\": 240}, \"29\": {\"prod\": \"104\", \"quantity\": 6, \"amount\": 240}, \"30\": {\"prod\": \"104\", \"quantity\": 6, \"amount\": 240}}'"
      ]
     },
     "execution_count": 3,
     "metadata": {},
     "output_type": "execute_result"
    }
   ],
   "source": [
    "import json\n",
    "import time\n",
    "fd=open(\"data.json\",\"w\")\n",
    "products=        {\"101\": {\"prod_name\": \"chips\", \"price\": 20, \"qnt\": 200, \"mfg._date\": \"4-7-2021\", \"exp._date\": \"4-12-2021\"},\n",
    "                  \"102\": {\"prod_name\": \"kitkat\", \"price\": 40, \"qnt\": 500, \"mfg._date\": \"4-8-2021\", \"exp._date\": \"1-2-2022\"},\n",
    "                  \"103\": {\"prod_name\": \"dairymilk\", \"price\": 80, \"qnt\": 500, \"mfg._date\": \"4-5-2021\", \"exp._date\": \"1-2-2022\"},\n",
    "                  \"104\": {\"prod_name\": \"biscuit\", \"price\": 40, \"qnt\": 50, \"mfg._date\": \"4-7-2021\", \"exp._date\": \"1-2-2022\"},\n",
    "                  \"105\": {\"prod_name\": \"jaljira\", \"price\": 10, \"qnt\": 520, \"mfg._date\": \"4-8-2021\", \"exp._date\": \"1-2-2022\"},\n",
    "                  \"106\": {\"prod_name\": \"facewash\", \"price\": 140, \"qnt\": 400, \"mfg._date\": \"9-8-2021\", \"exp._date\": \"1-2-2022\"},\n",
    "                  \"107\": {\"prod_name\": \"soap\", \"price\": 30, \"qnt\": 50, \"mfg._date\": \"4-9-2021\", \"exp._date\": \"1-2-2022\"},\n",
    "                  \"108\": {\"prod_name\": \"brush\", \"price\": 50, \"qnt\": 80, \"mfg._date\": \"4-3-2021\", \"exp._date\": \"1-2-2022\"},\n",
    "                  \"109\": {\"prod_name\": \"toothpaste\", \"price\": 90, \"qnt\": 50, \"mfg._date\": \"4-1-2021\", \"exp._date\": \"1-2-2022\"},\n",
    "                  \"110\": {\"prod_name\": \"toungcleaner\", \"price\": 4, \"qnt\": 5000, \"mfg._date\": \"3-8-2021\", \"exp._date\": \"1-2-2022\"},\n",
    "                  \"111\": {\"prod_name\": \"samosa\", \"price\": 5, \"qnt\": 54, \"mfg._date\": \"4-8-2021\", \"exp._date\": \"1-2-2022\"},\n",
    "                  \"112\": {\"prod_name\": \"thumsup\", \"price\": 40, \"qnt\": 509, \"mfg._date\": \"4-8-2021\", \"exp._date\": \"1-2-2022\"},\n",
    "                  \"113\": {\"prod_name\": \"fanta\", \"price\": 30, \"qnt\": 300, \"mfg._date\": \"3-7-2021\", \"exp_date\": \"1-7-2021\"},\n",
    "                  \"114\": {\"prod_name\": \"cake\", \"price\": 400, \"qnt\": 57, \"mfg._date\": \"4-8-2021\", \"exp._date\": \"1-2-2022\"},\n",
    "                  \"115\": {\"prod_name\": \"icecream\", \"price\": 70, \"qnt\": 560, \"mfg._date\": \"4-8-2021\", \"exp._date\": \"1-2-2022\"},\n",
    "                  \"116\": {\"prod_name\": \"videogame\", \"price\": 400, \"qnt\": 500, \"mfg._date\": \"4-8-2021\", \"exp._date\": \"1-2-2022\"},\n",
    "                  \"117\": {\"prod_name\": \"umbrella\", \"price\": 200, \"qnt\": 380, \"mfg._date\": \"4-8-2021\", \"exp._date\": \"1-2-2022\"},\n",
    "                  \"118\": {\"prod_name\": \"fan\", \"price\": 4000, \"qnt\": 100, \"mfg._date\": \"7-2-2021\", \"exp._date\": \"3-8-2023\"},\n",
    "                  \"119\": {\"prod_name\": \"bottle\", \"price\": 40, \"qnt\": 900, \"mfg._date\": \"4-8-2021\", \"exp._date\": \"1-2-2022\"},\n",
    "                  \"120\": {\"prod_name\": \"oil\", \"price\": 130, \"qnt\": 300, \"mfg._date\": \"3-6-2021\", \"exp_date\": \"1-7-2021\"},\n",
    "                  \"121\": {\"prod_name\": \"sugar\", \"price\": 50, \"qnt\": 200, \"mfg._date\": \"3-6-2021\", \"exp_date\": \"1-7-2021\"},\n",
    "                  \"122\": {\"prod_name\": \"salt\", \"price\": 20, \"qnt\": 30, \"mfg._date\": \"3-6-2021\", \"exp_date\": \"1-7-2021\"},\n",
    "                  \"123\": {\"prod_name\": \"fivestar\", \"price\": 30, \"qnt\": 32, \"mfg._date\": \"5-7-2021\", \"exp_date\": \"1-6-2021\"},\n",
    "                  \"124\": {\"prod_name\": \"keyboard\", \"price\": 3500, \"qnt\": 90, \"mfg._date\": \"3-5-2021\", \"exp_date\": \"1-7-2023\"},\n",
    "                  \"125\": {\"prod_name\": \"noodles\", \"price\": 150, \"qnt\": 60, \"mfg._date\": \"3-6-2021\", \"exp_date\": \"1-7-2022\"},\n",
    "                  \"126\": {\"prod_name\": \"roll\", \"price\": 100, \"qnt\": 30, \"mfg._date\": \"2-4-2021\", \"exp_date\": \"1-7-2021\"}, \n",
    "                  \"127\": {\"prod_name\": \"maaza\", \"price\": 70, \"qnt\": 100, \"mfg._date\": \"3-6-2021\", \"exp_date\": \"2-9-2021\"},\n",
    "                  \"128\": {\"prod_name\": \"headphone\", \"price\": 3000, \"qnt\": 10, \"mfg._date\": \"4-6-2021\", \"exp_date\": \"1-7-2021\"},\n",
    "                  \"129\": {\"prod_name\": \"burger\", \"price\": 250, \"qnt\": 50, \"mfg._date\": \"7-6-2021\", \"exp_date\": \"1-7-2021\"},\n",
    "                  \"130\": {\"prod_name\": \"pizza\", \"price\": 300, \"qnt\": 30, \"mfg._date\": \"3-6-2021\", \"exp_date\": \"1-8-2021\"},\n",
    "                  \"131\": {\"prod_name\": \"sprite\", \"price\": 50, \"qnt\": 100, \"mfg._date\": \"3-5-2021\", \"exp_date\": \"6-6-2021\"}}\n",
    "var=json.dumps(products)\n",
    "fd.write(var)\n",
    "fd=open(\"data.json\",\"r\")\n",
    "new=fd.read()\n",
    "fd.close()\n",
    "products=json.loads(new)\n",
    "print(\"Welcome to our Store\")\n",
    "print(\"@@@@@@@@@@@@@@@@@@@@@@@@@@@@@@@@@@@@@@@\")\n",
    "print(\"HERE IS OUR MENU BAR\")\n",
    "print(\"product_id  product_name\",end=\"\\n\\n\")\n",
    "for i in products.keys():\n",
    "    print(i,\"          \",products[i][\"prod_name\"])\n",
    "num_prod=(input(\"Enter the Product_id:\"))\n",
    "qnt_prod=(int(input(\"Enter the quantity you want to buy:\")))\n",
    "print(\"Product:\",products[num_prod][\"prod_name\"])\n",
    "print(\"Price:\",products[num_prod][\"price\"])\n",
    "print(\"#######################################\")\n",
    "print(\"Your Bill is under Processing!!!!!!\")\n",
    "print(\"Billing Amount:\",products[num_prod][\"price\"]*qnt_prod)\n",
    "print(\"*********************\")\n",
    "print(\"$$$$$44$$$ purchase time:\",time.ctime(),\"$$$$$$$$$$$\")\n",
    "\n",
    "\n",
    "products[num_prod][\"qnt\"]=products[num_prod][\"qnt\"]-qnt_prod\n",
    "js=json.dumps(products)\n",
    "fd=open(\"data.json\",\"w\")\n",
    "fd.write(js)\n",
    "fd.close()\n",
    "{\"prod\":num_prod,\"quantity\":qnt_prod,\"amount\":products[num_prod][\"price\"]*qnt_prod}\n",
    "vd=open(\"sales.json\",\"w\")\n",
    "sales={1:{\"prod\":num_prod, \"quantity\":qnt_prod,\"amount\":products[num_prod][\"price\"]*qnt_prod},\n",
    "       2:{\"prod\":num_prod, \"quantity\":qnt_prod,\"amount\":products[num_prod][\"price\"]*qnt_prod},\n",
    "       3:{\"prod\":num_prod, \"quantity\":qnt_prod,\"amount\":products[num_prod][\"price\"]*qnt_prod},\n",
    "       4:{\"prod\":num_prod, \"quantity\":qnt_prod,\"amount\":products[num_prod][\"price\"]*qnt_prod},\n",
    "       5:{\"prod\":num_prod, \"quantity\":qnt_prod,\"amount\":products[num_prod][\"price\"]*qnt_prod},\n",
    "       6:{\"prod\":num_prod, \"quantity\":qnt_prod,\"amount\":products[num_prod][\"price\"]*qnt_prod},\n",
    "       7:{\"prod\":num_prod, \"quantity\":qnt_prod,\"amount\":products[num_prod][\"price\"]*qnt_prod},\n",
    "       8:{\"prod\":num_prod, \"quantity\":qnt_prod,\"amount\":products[num_prod][\"price\"]*qnt_prod},\n",
    "       9:{\"prod\":num_prod, \"quantity\":qnt_prod,\"amount\":products[num_prod][\"price\"]*qnt_prod},\n",
    "       10:{\"prod\":num_prod, \"quantity\":qnt_prod,\"amount\":products[num_prod][\"price\"]*qnt_prod},\n",
    "       11:{\"prod\":num_prod, \"quantity\":qnt_prod,\"amount\":products[num_prod][\"price\"]*qnt_prod},\n",
    "       12:{\"prod\":num_prod, \"quantity\":qnt_prod,\"amount\":products[num_prod][\"price\"]*qnt_prod},\n",
    "       13:{\"prod\":num_prod, \"quantity\":qnt_prod,\"amount\":products[num_prod][\"price\"]*qnt_prod},\n",
    "       14:{\"prod\":num_prod, \"quantity\":qnt_prod,\"amount\":products[num_prod][\"price\"]*qnt_prod},\n",
    "       15:{\"prod\":num_prod, \"quantity\":qnt_prod,\"amount\":products[num_prod][\"price\"]*qnt_prod},\n",
    "       16:{\"prod\":num_prod, \"quantity\":qnt_prod,\"amount\":products[num_prod][\"price\"]*qnt_prod},\n",
    "       17:{\"prod\":num_prod, \"quantity\":qnt_prod,\"amount\":products[num_prod][\"price\"]*qnt_prod},\n",
    "       18:{\"prod\":num_prod, \"quantity\":qnt_prod,\"amount\":products[num_prod][\"price\"]*qnt_prod},\n",
    "       19:{\"prod\":num_prod, \"quantity\":qnt_prod,\"amount\":products[num_prod][\"price\"]*qnt_prod},\n",
    "       20:{\"prod\":num_prod, \"quantity\":qnt_prod,\"amount\":products[num_prod][\"price\"]*qnt_prod},\n",
    "       21:{\"prod\":num_prod, \"quantity\":qnt_prod,\"amount\":products[num_prod][\"price\"]*qnt_prod},\n",
    "       22:{\"prod\":num_prod, \"quantity\":qnt_prod,\"amount\":products[num_prod][\"price\"]*qnt_prod},\n",
    "       23:{\"prod\":num_prod, \"quantity\":qnt_prod,\"amount\":products[num_prod][\"price\"]*qnt_prod},\n",
    "       24:{\"prod\":num_prod, \"quantity\":qnt_prod,\"amount\":products[num_prod][\"price\"]*qnt_prod},\n",
    "       25:{\"prod\":num_prod, \"quantity\":qnt_prod,\"amount\":products[num_prod][\"price\"]*qnt_prod},\n",
    "       26:{\"prod\":num_prod, \"quantity\":qnt_prod,\"amount\":products[num_prod][\"price\"]*qnt_prod},\n",
    "       27:{\"prod\":num_prod, \"quantity\":qnt_prod,\"amount\":products[num_prod][\"price\"]*qnt_prod},\n",
    "       28:{\"prod\":num_prod, \"quantity\":qnt_prod,\"amount\":products[num_prod][\"price\"]*qnt_prod},\n",
    "       29:{\"prod\":num_prod, \"quantity\":qnt_prod,\"amount\":products[num_prod][\"price\"]*qnt_prod},\n",
    "       30:{\"prod\":num_prod, \"quantity\":qnt_prod,\"amount\":products[num_prod][\"price\"]*qnt_prod}}\n",
    "sale=json.dumps(sales)\n",
    "vd.write(sale)\n",
    "vd=open(\"sales.json\",\"r\")\n",
    "file=vd.read()\n",
    "file"
   ]
  },
  {
   "cell_type": "code",
   "execution_count": 2,
   "id": "ce17649f",
   "metadata": {
    "collapsed": true
   },
   "outputs": [
    {
     "data": {
      "text/plain": [
       "'{\"101\": {\"prod_name\": \"chips\", \"price\": 20, \"qnt\": 200, \"mfg._date\": \"4-7-2021\", \"exp._date\": \"4-12-2021\"}, \"102\": {\"prod_name\": \"kitkat\", \"price\": 40, \"qnt\": 500, \"mfg._date\": \"4-8-2021\", \"exp._date\": \"1-2-2022\"}, \"103\": {\"prod_name\": \"dairymilk\", \"price\": 80, \"qnt\": 500, \"mfg._date\": \"4-5-2021\", \"exp._date\": \"1-2-2022\"}, \"104\": {\"prod_name\": \"biscuit\", \"price\": 40, \"qnt\": 50, \"mfg._date\": \"4-7-2021\", \"exp._date\": \"1-2-2022\"}, \"105\": {\"prod_name\": \"jaljira\", \"price\": 10, \"qnt\": 520, \"mfg._date\": \"4-8-2021\", \"exp._date\": \"1-2-2022\"}, \"106\": {\"prod_name\": \"facewash\", \"price\": 140, \"qnt\": 400, \"mfg._date\": \"9-8-2021\", \"exp._date\": \"1-2-2022\"}, \"107\": {\"prod_name\": \"soap\", \"price\": 30, \"qnt\": 50, \"mfg._date\": \"4-9-2021\", \"exp._date\": \"1-2-2022\"}, \"108\": {\"prod_name\": \"brush\", \"price\": 50, \"qnt\": 80, \"mfg._date\": \"4-3-2021\", \"exp._date\": \"1-2-2022\"}, \"109\": {\"prod_name\": \"toothpaste\", \"price\": 90, \"qnt\": 50, \"mfg._date\": \"4-1-2021\", \"exp._date\": \"1-2-2022\"}, \"110\": {\"prod_name\": \"toungcleaner\", \"price\": 4, \"qnt\": 5000, \"mfg._date\": \"3-8-2021\", \"exp._date\": \"1-2-2022\"}, \"111\": {\"prod_name\": \"samosa\", \"price\": 5, \"qnt\": 54, \"mfg._date\": \"4-8-2021\", \"exp._date\": \"1-2-2022\"}, \"112\": {\"prod_name\": \"thumsup\", \"price\": 40, \"qnt\": 509, \"mfg._date\": \"4-8-2021\", \"exp._date\": \"1-2-2022\"}, \"113\": {\"prod_name\": \"fanta\", \"price\": 30, \"qnt\": 300, \"mfg._date\": \"3-7-2021\", \"exp_date\": \"1-7-2021\"}, \"114\": {\"prod_name\": \"cake\", \"price\": 400, \"qnt\": 57, \"mfg._date\": \"4-8-2021\", \"exp._date\": \"1-2-2022\"}, \"115\": {\"prod_name\": \"icecream\", \"price\": 70, \"qnt\": 560, \"mfg._date\": \"4-8-2021\", \"exp._date\": \"1-2-2022\"}, \"116\": {\"prod_name\": \"videogame\", \"price\": 400, \"qnt\": 500, \"mfg._date\": \"4-8-2021\", \"exp._date\": \"1-2-2022\"}, \"117\": {\"prod_name\": \"umbrella\", \"price\": 200, \"qnt\": 380, \"mfg._date\": \"4-8-2021\", \"exp._date\": \"1-2-2022\"}, \"118\": {\"prod_name\": \"fan\", \"price\": 4000, \"qnt\": 100, \"mfg._date\": \"7-2-2021\", \"exp._date\": \"3-8-2023\"}, \"119\": {\"prod_name\": \"bottle\", \"price\": 40, \"qnt\": 900, \"mfg._date\": \"4-8-2021\", \"exp._date\": \"1-2-2022\"}, \"120\": {\"prod_name\": \"oil\", \"price\": 130, \"qnt\": 300, \"mfg._date\": \"3-6-2021\", \"exp_date\": \"1-7-2021\"}, \"121\": {\"prod_name\": \"sugar\", \"price\": 50, \"qnt\": 200, \"mfg._date\": \"3-6-2021\", \"exp_date\": \"1-7-2021\"}, \"122\": {\"prod_name\": \"salt\", \"price\": 20, \"qnt\": 30, \"mfg._date\": \"3-6-2021\", \"exp_date\": \"1-7-2021\"}, \"123\": {\"prod_name\": \"fivestar\", \"price\": 30, \"qnt\": 32, \"mfg._date\": \"5-7-2021\", \"exp_date\": \"1-6-2021\"}, \"124\": {\"prod_name\": \"keyboard\", \"price\": 3500, \"qnt\": 90, \"mfg._date\": \"3-5-2021\", \"exp_date\": \"1-7-2023\"}, \"125\": {\"prod_name\": \"noodles\", \"price\": 150, \"qnt\": 60, \"mfg._date\": \"3-6-2021\", \"exp_date\": \"1-7-2022\"}, \"126\": {\"prod_name\": \"roll\", \"price\": 100, \"qnt\": 30, \"mfg._date\": \"2-4-2021\", \"exp_date\": \"1-7-2021\"}, \"127\": {\"prod_name\": \"maaza\", \"price\": 70, \"qnt\": 100, \"mfg._date\": \"3-6-2021\", \"exp_date\": \"2-9-2021\"}, \"128\": {\"prod_name\": \"headphone\", \"price\": 3000, \"qnt\": 10, \"mfg._date\": \"4-6-2021\", \"exp_date\": \"1-7-2021\"}, \"129\": {\"prod_name\": \"burger\", \"price\": 250, \"qnt\": 50, \"mfg._date\": \"7-6-2021\", \"exp_date\": \"1-7-2021\"}, \"130\": {\"prod_name\": \"pizza\", \"price\": 300, \"qnt\": 30, \"mfg._date\": \"3-6-2021\", \"exp_date\": \"1-8-2021\"}, \"131\": {\"prod_name\": \"sprite\", \"price\": 50, \"qnt\": 100, \"mfg._date\": \"3-5-2021\", \"exp_date\": \"6-6-2021\"}}'"
      ]
     },
     "execution_count": 2,
     "metadata": {},
     "output_type": "execute_result"
    }
   ],
   "source": [
    "fd=open(\"data.json\",\"r\")\n",
    "new=fd.read()\n",
    "new\n"
   ]
  },
  {
   "cell_type": "code",
   "execution_count": 3,
   "id": "de2d1803",
   "metadata": {},
   "outputs": [],
   "source": [
    "fd.close()\n",
    "products=json.loads(new)\n"
   ]
  },
  {
   "cell_type": "code",
   "execution_count": 4,
   "id": "69eca496",
   "metadata": {
    "collapsed": true
   },
   "outputs": [
    {
     "data": {
      "text/plain": [
       "{'101': {'prod_name': 'chips',\n",
       "  'price': 20,\n",
       "  'qnt': 200,\n",
       "  'mfg._date': '4-7-2021',\n",
       "  'exp._date': '4-12-2021'},\n",
       " '102': {'prod_name': 'kitkat',\n",
       "  'price': 40,\n",
       "  'qnt': 500,\n",
       "  'mfg._date': '4-8-2021',\n",
       "  'exp._date': '1-2-2022'},\n",
       " '103': {'prod_name': 'dairymilk',\n",
       "  'price': 80,\n",
       "  'qnt': 500,\n",
       "  'mfg._date': '4-5-2021',\n",
       "  'exp._date': '1-2-2022'},\n",
       " '104': {'prod_name': 'biscuit',\n",
       "  'price': 40,\n",
       "  'qnt': 50,\n",
       "  'mfg._date': '4-7-2021',\n",
       "  'exp._date': '1-2-2022'},\n",
       " '105': {'prod_name': 'jaljira',\n",
       "  'price': 10,\n",
       "  'qnt': 520,\n",
       "  'mfg._date': '4-8-2021',\n",
       "  'exp._date': '1-2-2022'},\n",
       " '106': {'prod_name': 'facewash',\n",
       "  'price': 140,\n",
       "  'qnt': 400,\n",
       "  'mfg._date': '9-8-2021',\n",
       "  'exp._date': '1-2-2022'},\n",
       " '107': {'prod_name': 'soap',\n",
       "  'price': 30,\n",
       "  'qnt': 50,\n",
       "  'mfg._date': '4-9-2021',\n",
       "  'exp._date': '1-2-2022'},\n",
       " '108': {'prod_name': 'brush',\n",
       "  'price': 50,\n",
       "  'qnt': 80,\n",
       "  'mfg._date': '4-3-2021',\n",
       "  'exp._date': '1-2-2022'},\n",
       " '109': {'prod_name': 'toothpaste',\n",
       "  'price': 90,\n",
       "  'qnt': 50,\n",
       "  'mfg._date': '4-1-2021',\n",
       "  'exp._date': '1-2-2022'},\n",
       " '110': {'prod_name': 'toungcleaner',\n",
       "  'price': 4,\n",
       "  'qnt': 5000,\n",
       "  'mfg._date': '3-8-2021',\n",
       "  'exp._date': '1-2-2022'},\n",
       " '111': {'prod_name': 'samosa',\n",
       "  'price': 5,\n",
       "  'qnt': 54,\n",
       "  'mfg._date': '4-8-2021',\n",
       "  'exp._date': '1-2-2022'},\n",
       " '112': {'prod_name': 'thumsup',\n",
       "  'price': 40,\n",
       "  'qnt': 509,\n",
       "  'mfg._date': '4-8-2021',\n",
       "  'exp._date': '1-2-2022'},\n",
       " '113': {'prod_name': 'fanta',\n",
       "  'price': 30,\n",
       "  'qnt': 300,\n",
       "  'mfg._date': '3-7-2021',\n",
       "  'exp_date': '1-7-2021'},\n",
       " '114': {'prod_name': 'cake',\n",
       "  'price': 400,\n",
       "  'qnt': 57,\n",
       "  'mfg._date': '4-8-2021',\n",
       "  'exp._date': '1-2-2022'},\n",
       " '115': {'prod_name': 'icecream',\n",
       "  'price': 70,\n",
       "  'qnt': 560,\n",
       "  'mfg._date': '4-8-2021',\n",
       "  'exp._date': '1-2-2022'},\n",
       " '116': {'prod_name': 'videogame',\n",
       "  'price': 400,\n",
       "  'qnt': 500,\n",
       "  'mfg._date': '4-8-2021',\n",
       "  'exp._date': '1-2-2022'},\n",
       " '117': {'prod_name': 'umbrella',\n",
       "  'price': 200,\n",
       "  'qnt': 380,\n",
       "  'mfg._date': '4-8-2021',\n",
       "  'exp._date': '1-2-2022'},\n",
       " '118': {'prod_name': 'fan',\n",
       "  'price': 4000,\n",
       "  'qnt': 100,\n",
       "  'mfg._date': '7-2-2021',\n",
       "  'exp._date': '3-8-2023'},\n",
       " '119': {'prod_name': 'bottle',\n",
       "  'price': 40,\n",
       "  'qnt': 900,\n",
       "  'mfg._date': '4-8-2021',\n",
       "  'exp._date': '1-2-2022'},\n",
       " '120': {'prod_name': 'oil',\n",
       "  'price': 130,\n",
       "  'qnt': 300,\n",
       "  'mfg._date': '3-6-2021',\n",
       "  'exp_date': '1-7-2021'},\n",
       " '121': {'prod_name': 'sugar',\n",
       "  'price': 50,\n",
       "  'qnt': 200,\n",
       "  'mfg._date': '3-6-2021',\n",
       "  'exp_date': '1-7-2021'},\n",
       " '122': {'prod_name': 'salt',\n",
       "  'price': 20,\n",
       "  'qnt': 30,\n",
       "  'mfg._date': '3-6-2021',\n",
       "  'exp_date': '1-7-2021'},\n",
       " '123': {'prod_name': 'fivestar',\n",
       "  'price': 30,\n",
       "  'qnt': 32,\n",
       "  'mfg._date': '5-7-2021',\n",
       "  'exp_date': '1-6-2021'},\n",
       " '124': {'prod_name': 'keyboard',\n",
       "  'price': 3500,\n",
       "  'qnt': 90,\n",
       "  'mfg._date': '3-5-2021',\n",
       "  'exp_date': '1-7-2023'},\n",
       " '125': {'prod_name': 'noodles',\n",
       "  'price': 150,\n",
       "  'qnt': 60,\n",
       "  'mfg._date': '3-6-2021',\n",
       "  'exp_date': '1-7-2022'},\n",
       " '126': {'prod_name': 'roll',\n",
       "  'price': 100,\n",
       "  'qnt': 30,\n",
       "  'mfg._date': '2-4-2021',\n",
       "  'exp_date': '1-7-2021'},\n",
       " '127': {'prod_name': 'maaza',\n",
       "  'price': 70,\n",
       "  'qnt': 100,\n",
       "  'mfg._date': '3-6-2021',\n",
       "  'exp_date': '2-9-2021'},\n",
       " '128': {'prod_name': 'headphone',\n",
       "  'price': 3000,\n",
       "  'qnt': 10,\n",
       "  'mfg._date': '4-6-2021',\n",
       "  'exp_date': '1-7-2021'},\n",
       " '129': {'prod_name': 'burger',\n",
       "  'price': 250,\n",
       "  'qnt': 50,\n",
       "  'mfg._date': '7-6-2021',\n",
       "  'exp_date': '1-7-2021'},\n",
       " '130': {'prod_name': 'pizza',\n",
       "  'price': 300,\n",
       "  'qnt': 30,\n",
       "  'mfg._date': '3-6-2021',\n",
       "  'exp_date': '1-8-2021'},\n",
       " '131': {'prod_name': 'sprite',\n",
       "  'price': 50,\n",
       "  'qnt': 100,\n",
       "  'mfg._date': '3-5-2021',\n",
       "  'exp_date': '6-6-2021'}}"
      ]
     },
     "execution_count": 4,
     "metadata": {},
     "output_type": "execute_result"
    }
   ],
   "source": [
    "products"
   ]
  },
  {
   "cell_type": "code",
   "execution_count": 24,
   "id": "fa16a7f9",
   "metadata": {
    "collapsed": true
   },
   "outputs": [
    {
     "name": "stdout",
     "output_type": "stream",
     "text": [
      "Welcome to our Store\n",
      "@@@@@@@@@@@@@@@@@@@@@@@@@@@@@@@@@@@@@@@\n",
      "HERE IS OUR MENU BAR\n",
      "product_id  product_name\n",
      "\n",
      "101            chips\n",
      "102            kitkat\n",
      "103            dairymilk\n",
      "104            biscuit\n",
      "105            jaljira\n",
      "106            facewash\n",
      "107            soap\n",
      "108            brush\n",
      "109            toothpaste\n",
      "110            toungcleaner\n",
      "111            samosa\n",
      "112            thumsup\n",
      "113            fanta\n",
      "114            cake\n",
      "115            icecream\n",
      "116            videogame\n",
      "117            umbrella\n",
      "118            fan\n",
      "119            bottle\n",
      "120            oil\n",
      "121            sugar\n",
      "122            salt\n",
      "123            fivestar\n",
      "124            keyboard\n",
      "125            noodles\n",
      "126            roll\n",
      "127            maaza\n",
      "128            headphone\n",
      "129            burger\n",
      "130            pizza\n",
      "131            sprite\n"
     ]
    }
   ],
   "source": [
    "print(\"Welcome to our Store\")\n",
    "print(\"@@@@@@@@@@@@@@@@@@@@@@@@@@@@@@@@@@@@@@@\")\n",
    "print(\"HERE IS OUR MENU BAR\")\n",
    "print(\"product_id  product_name\",end=\"\\n\\n\")\n",
    "for i in products.keys():\n",
    "    print(i,\"          \",products[i][\"prod_name\"])"
   ]
  },
  {
   "cell_type": "code",
   "execution_count": null,
   "id": "f369659e",
   "metadata": {},
   "outputs": [],
   "source": [
    "#PURCHASE ITEMS"
   ]
  },
  {
   "cell_type": "code",
   "execution_count": 1,
   "id": "d7a7130f",
   "metadata": {},
   "outputs": [
    {
     "name": "stdout",
     "output_type": "stream",
     "text": [
      "Enter the Product_id:106\n",
      "Enter the quantity you want to buy:5\n"
     ]
    },
    {
     "ename": "NameError",
     "evalue": "name 'products' is not defined",
     "output_type": "error",
     "traceback": [
      "\u001b[1;31m---------------------------------------------------------------------------\u001b[0m",
      "\u001b[1;31mNameError\u001b[0m                                 Traceback (most recent call last)",
      "\u001b[1;32m<ipython-input-1-e6e44d362c12>\u001b[0m in \u001b[0;36m<module>\u001b[1;34m\u001b[0m\n\u001b[0;32m      1\u001b[0m \u001b[0mnum_prod\u001b[0m\u001b[1;33m=\u001b[0m\u001b[1;33m(\u001b[0m\u001b[0minput\u001b[0m\u001b[1;33m(\u001b[0m\u001b[1;34m\"Enter the Product_id:\"\u001b[0m\u001b[1;33m)\u001b[0m\u001b[1;33m)\u001b[0m\u001b[1;33m\u001b[0m\u001b[1;33m\u001b[0m\u001b[0m\n\u001b[0;32m      2\u001b[0m \u001b[0mqnt_prod\u001b[0m\u001b[1;33m=\u001b[0m\u001b[1;33m(\u001b[0m\u001b[0mint\u001b[0m\u001b[1;33m(\u001b[0m\u001b[0minput\u001b[0m\u001b[1;33m(\u001b[0m\u001b[1;34m\"Enter the quantity you want to buy:\"\u001b[0m\u001b[1;33m)\u001b[0m\u001b[1;33m)\u001b[0m\u001b[1;33m)\u001b[0m\u001b[1;33m\u001b[0m\u001b[1;33m\u001b[0m\u001b[0m\n\u001b[1;32m----> 3\u001b[1;33m \u001b[0mprint\u001b[0m\u001b[1;33m(\u001b[0m\u001b[1;34m\"Product:\"\u001b[0m\u001b[1;33m,\u001b[0m\u001b[0mproducts\u001b[0m\u001b[1;33m[\u001b[0m\u001b[0mnum_prod\u001b[0m\u001b[1;33m]\u001b[0m\u001b[1;33m[\u001b[0m\u001b[1;34m\"prod_name\"\u001b[0m\u001b[1;33m]\u001b[0m\u001b[1;33m)\u001b[0m\u001b[1;33m\u001b[0m\u001b[1;33m\u001b[0m\u001b[0m\n\u001b[0m\u001b[0;32m      4\u001b[0m \u001b[0mprint\u001b[0m\u001b[1;33m(\u001b[0m\u001b[1;34m\"Price:\"\u001b[0m\u001b[1;33m,\u001b[0m\u001b[0mproducts\u001b[0m\u001b[1;33m[\u001b[0m\u001b[0mnum_prod\u001b[0m\u001b[1;33m]\u001b[0m\u001b[1;33m[\u001b[0m\u001b[1;34m\"price\"\u001b[0m\u001b[1;33m]\u001b[0m\u001b[1;33m)\u001b[0m\u001b[1;33m\u001b[0m\u001b[1;33m\u001b[0m\u001b[0m\n\u001b[0;32m      5\u001b[0m \u001b[0mprint\u001b[0m\u001b[1;33m(\u001b[0m\u001b[1;34m\"#######################################\"\u001b[0m\u001b[1;33m)\u001b[0m\u001b[1;33m\u001b[0m\u001b[1;33m\u001b[0m\u001b[0m\n",
      "\u001b[1;31mNameError\u001b[0m: name 'products' is not defined"
     ]
    }
   ],
   "source": [
    "num_prod=(input(\"Enter the Product_id:\"))\n",
    "qnt_prod=(int(input(\"Enter the quantity you want to buy:\")))\n",
    "print(\"Product:\",products[num_prod][\"prod_name\"])\n",
    "print(\"Price:\",products[num_prod][\"price\"])\n",
    "print(\"#######################################\")\n",
    "print(\"Your Bill is under Processing!!!!!!\")\n",
    "print(\"Billing Amount:\",products[num_prod][\"price\"]*qnt_prod)\n",
    "print(\"*********************\")\n",
    "print(\"$$$$$44$$$ purchase time:\",time.ctime(),\"$$$$$$$$$$$\")\n",
    "\n",
    "\n",
    "products[num_prod][\"qnt\"]=products[num_prod][\"qnt\"]-qnt_prod"
   ]
  },
  {
   "cell_type": "code",
   "execution_count": 11,
   "id": "7ad2b92d",
   "metadata": {},
   "outputs": [],
   "source": [
    "js=json.dumps(products)\n",
    "fd=open(\"data.json\",\"w\")\n",
    "fd.write(js)\n",
    "fd.close()"
   ]
  },
  {
   "cell_type": "code",
   "execution_count": 12,
   "id": "44add4f2",
   "metadata": {
    "collapsed": true
   },
   "outputs": [
    {
     "data": {
      "text/plain": [
       "{'prod': '114', 'quantity': 19, 'amount': 7600}"
      ]
     },
     "execution_count": 12,
     "metadata": {},
     "output_type": "execute_result"
    }
   ],
   "source": [
    "{\"prod\":num_prod,\"quantity\":qnt_prod,\"amount\":products[num_prod][\"price\"]*qnt_prod}"
   ]
  },
  {
   "cell_type": "code",
   "execution_count": 21,
   "id": "6d985496",
   "metadata": {},
   "outputs": [],
   "source": [
    "vd=open(\"sales.json\",\"w\")\n",
    "sales={1:{\"prod\":num_prod, \"quantity\":qnt_prod,\"amount\":products[num_prod][\"price\"]*qnt_prod},\n",
    "       2:{\"prod\":num_prod, \"quantity\":qnt_prod,\"amount\":products[num_prod][\"price\"]*qnt_prod},\n",
    "       3:{\"prod\":num_prod, \"quantity\":qnt_prod,\"amount\":products[num_prod][\"price\"]*qnt_prod},\n",
    "       4:{\"prod\":num_prod, \"quantity\":qnt_prod,\"amount\":products[num_prod][\"price\"]*qnt_prod},\n",
    "       5:{\"prod\":num_prod, \"quantity\":qnt_prod,\"amount\":products[num_prod][\"price\"]*qnt_prod},\n",
    "       6:{\"prod\":num_prod, \"quantity\":qnt_prod,\"amount\":products[num_prod][\"price\"]*qnt_prod},\n",
    "       7:{\"prod\":num_prod, \"quantity\":qnt_prod,\"amount\":products[num_prod][\"price\"]*qnt_prod},\n",
    "       8:{\"prod\":num_prod, \"quantity\":qnt_prod,\"amount\":products[num_prod][\"price\"]*qnt_prod},\n",
    "       9:{\"prod\":num_prod, \"quantity\":qnt_prod,\"amount\":products[num_prod][\"price\"]*qnt_prod},\n",
    "       10:{\"prod\":num_prod, \"quantity\":qnt_prod,\"amount\":products[num_prod][\"price\"]*qnt_prod},\n",
    "       11:{\"prod\":num_prod, \"quantity\":qnt_prod,\"amount\":products[num_prod][\"price\"]*qnt_prod},\n",
    "       12:{\"prod\":num_prod, \"quantity\":qnt_prod,\"amount\":products[num_prod][\"price\"]*qnt_prod},\n",
    "       13:{\"prod\":num_prod, \"quantity\":qnt_prod,\"amount\":products[num_prod][\"price\"]*qnt_prod},\n",
    "       14:{\"prod\":num_prod, \"quantity\":qnt_prod,\"amount\":products[num_prod][\"price\"]*qnt_prod},\n",
    "       15:{\"prod\":num_prod, \"quantity\":qnt_prod,\"amount\":products[num_prod][\"price\"]*qnt_prod},\n",
    "       16:{\"prod\":num_prod, \"quantity\":qnt_prod,\"amount\":products[num_prod][\"price\"]*qnt_prod},\n",
    "       17:{\"prod\":num_prod, \"quantity\":qnt_prod,\"amount\":products[num_prod][\"price\"]*qnt_prod},\n",
    "       18:{\"prod\":num_prod, \"quantity\":qnt_prod,\"amount\":products[num_prod][\"price\"]*qnt_prod},\n",
    "       19:{\"prod\":num_prod, \"quantity\":qnt_prod,\"amount\":products[num_prod][\"price\"]*qnt_prod},\n",
    "       20:{\"prod\":num_prod, \"quantity\":qnt_prod,\"amount\":products[num_prod][\"price\"]*qnt_prod},\n",
    "       21:{\"prod\":num_prod, \"quantity\":qnt_prod,\"amount\":products[num_prod][\"price\"]*qnt_prod},\n",
    "       22:{\"prod\":num_prod, \"quantity\":qnt_prod,\"amount\":products[num_prod][\"price\"]*qnt_prod},\n",
    "       23:{\"prod\":num_prod, \"quantity\":qnt_prod,\"amount\":products[num_prod][\"price\"]*qnt_prod},\n",
    "       24:{\"prod\":num_prod, \"quantity\":qnt_prod,\"amount\":products[num_prod][\"price\"]*qnt_prod},\n",
    "       25:{\"prod\":num_prod, \"quantity\":qnt_prod,\"amount\":products[num_prod][\"price\"]*qnt_prod},\n",
    "       26:{\"prod\":num_prod, \"quantity\":qnt_prod,\"amount\":products[num_prod][\"price\"]*qnt_prod},\n",
    "       27:{\"prod\":num_prod, \"quantity\":qnt_prod,\"amount\":products[num_prod][\"price\"]*qnt_prod},\n",
    "       28:{\"prod\":num_prod, \"quantity\":qnt_prod,\"amount\":products[num_prod][\"price\"]*qnt_prod},\n",
    "       29:{\"prod\":num_prod, \"quantity\":qnt_prod,\"amount\":products[num_prod][\"price\"]*qnt_prod},\n",
    "       30:{\"prod\":num_prod, \"quantity\":qnt_prod,\"amount\":products[num_prod][\"price\"]*qnt_prod}}"
   ]
  },
  {
   "cell_type": "code",
   "execution_count": 22,
   "id": "eca15b00",
   "metadata": {},
   "outputs": [
    {
     "data": {
      "text/plain": [
       "1641"
      ]
     },
     "execution_count": 22,
     "metadata": {},
     "output_type": "execute_result"
    }
   ],
   "source": [
    "sale=json.dumps(sales)\n",
    "vd.write(sale)"
   ]
  },
  {
   "cell_type": "code",
   "execution_count": 23,
   "id": "b402fdbf",
   "metadata": {
    "collapsed": true
   },
   "outputs": [
    {
     "data": {
      "text/plain": [
       "'{\"1\": {\"prod\": \"114\", \"quantity\": 19, \"amount\": 7600}, \"2\": {\"prod\": \"114\", \"quantity\": 19, \"amount\": 7600}, \"3\": {\"prod\": \"114\", \"quantity\": 19, \"amount\": 7600}, \"4\": {\"prod\": \"114\", \"quantity\": 19, \"amount\": 7600}, \"5\": {\"prod\": \"114\", \"quantity\": 19, \"amount\": 7600}, \"6\": {\"prod\": \"114\", \"quantity\": 19, \"amount\": 7600}, \"7\": {\"prod\": \"114\", \"quantity\": 19, \"amount\": 7600}, \"8\": {\"prod\": \"114\", \"quantity\": 19, \"amount\": 7600}, \"9\": {\"prod\": \"114\", \"quantity\": 19, \"amount\": 7600}, \"10\": {\"prod\": \"114\", \"quantity\": 19, \"amount\": 7600}, \"11\": {\"prod\": \"114\", \"quantity\": 19, \"amount\": 7600}, \"12\": {\"prod\": \"114\", \"quantity\": 19, \"amount\": 7600}, \"13\": {\"prod\": \"114\", \"quantity\": 19, \"amount\": 7600}, \"14\": {\"prod\": \"114\", \"quantity\": 19, \"amount\": 7600}, \"15\": {\"prod\": \"114\", \"quantity\": 19, \"amount\": 7600}, \"16\": {\"prod\": \"114\", \"quantity\": 19, \"amount\": 7600}, \"17\": {\"prod\": \"114\", \"quantity\": 19, \"amount\": 7600}, \"18\": {\"prod\": \"114\", \"quantity\": 19, \"amount\": 7600}, \"19\": {\"prod\": \"114\", \"quantity\": 19, \"amount\": 7600}, \"20\": {\"prod\": \"114\", \"quantity\": 19, \"amount\": 7600}, \"21\": {\"prod\": \"114\", \"quantity\": 19, \"amount\": 7600}, \"22\": {\"prod\": \"114\", \"quantity\": 19, \"amount\": 7600}, \"23\": {\"prod\": \"114\", \"quantity\": 19, \"amount\": 7600}, \"24\": {\"prod\": \"114\", \"quantity\": 19, \"amount\": 7600}, \"25\": {\"prod\": \"114\", \"quantity\": 19, \"amount\": 7600}, \"26\": {\"prod\": \"114\", \"quantity\": 19, \"amount\": 7600}, \"27\": {\"prod\": \"114\", \"quantity\": 19, \"amount\": 7600}, \"28\": {\"prod\": \"114\", \"quantity\": 19, \"amount\": 7600}, \"29\": {\"prod\": \"114\", \"quantity\": 19, \"amount\": 7600}, \"30\": {\"prod\": \"114\", \"quantity\": 19, \"amount\": 7600}}'"
      ]
     },
     "execution_count": 23,
     "metadata": {},
     "output_type": "execute_result"
    }
   ],
   "source": [
    "vd=open(\"sales.json\",\"r\")\n",
    "file=vd.read()\n",
    "file"
   ]
  },
  {
   "cell_type": "code",
   "execution_count": null,
   "id": "e096f1b9",
   "metadata": {},
   "outputs": [],
   "source": []
  }
 ],
 "metadata": {
  "kernelspec": {
   "display_name": "Python 3",
   "language": "python",
   "name": "python3"
  },
  "language_info": {
   "codemirror_mode": {
    "name": "ipython",
    "version": 3
   },
   "file_extension": ".py",
   "mimetype": "text/x-python",
   "name": "python",
   "nbconvert_exporter": "python",
   "pygments_lexer": "ipython3",
   "version": "3.8.8"
  }
 },
 "nbformat": 4,
 "nbformat_minor": 5
}

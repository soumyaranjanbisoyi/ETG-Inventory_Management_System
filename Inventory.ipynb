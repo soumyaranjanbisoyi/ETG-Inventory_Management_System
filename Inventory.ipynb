{
 "cells": [
  {
   "cell_type": "markdown",
   "id": "ec03c3aa",
   "metadata": {},
   "source": [
    "# Creating our record.json file"
   ]
  },
  {
   "cell_type": "code",
   "execution_count": 1,
   "id": "e4e0d8c9",
   "metadata": {},
   "outputs": [],
   "source": [
    "import json\n",
    "import time"
   ]
  },
  {
   "cell_type": "code",
   "execution_count": 2,
   "id": "c062b089",
   "metadata": {},
   "outputs": [],
   "source": [
    "fd=open(\"record.json\",\"w\")\n",
    "attributes={101:{\"prod_name\":\"pizza\",\"prod_qnt\":150,\"prod_price\":299},\n",
    "           102:{\"prod_name\":\"Burger\",\"prod_qnt\":25,\"prod_price\":199},\n",
    "            103:{\"prod_name\":\"Noodles\",\"prod_qnt\":1500,\"prod_price\":99},\n",
    "            104:{\"prod_name\":\"Veg Biriyani\",\"prod_qnt\":50,\"prod_price\":149},\n",
    "            105:{\"prod_name\":\"pettis\",\"prod_qnt\":950,\"prod_price\":29},\n",
    "            106:{\"prod_name\":\"Chicken Biriyani\",\"prod_qnt\":100,\"prod_price\":189},\n",
    "            107:{\"prod_name\":\"Soft Drinks\",\"prod_qnt\":2250,\"prod_price\":49},\n",
    "            108:{\"prod_name\":\"Coffee\",\"prod_qnt\":550,\"prod_price\":39},\n",
    "            109:{\"prod_name\":\"Sandwich\",\"prod_qnt\":850,\"prod_price\":99},\n",
    "            110:{\"prod_name\":\"Samosa\",\"prod_qnt\":1589,\"prod_price\":19},\n",
    "            111:{\"prod_name\":\"Chips\",\"prod_qnt\":15000,\"prod_price\":49}}"
   ]
  },
  {
   "cell_type": "code",
   "execution_count": 31,
   "id": "1adc28e6",
   "metadata": {
    "collapsed": true
   },
   "outputs": [
    {
     "data": {
      "text/plain": [
       "{101: {'prod_name': 'pizza', 'prod_qnt': 150, 'prod_price': 299},\n",
       " 102: {'prod_name': 'Burger', 'prod_qnt': 25, 'prod_price': 199},\n",
       " 103: {'prod_name': 'Noodles', 'prod_qnt': 1500, 'prod_price': 99},\n",
       " 104: {'prod_name': 'Veg Biriyani', 'prod_qnt': 50, 'prod_price': 149},\n",
       " 105: {'prod_name': 'pettis', 'prod_qnt': 950, 'prod_price': 29},\n",
       " 106: {'prod_name': 'Chicken Biriyani', 'prod_qnt': 100, 'prod_price': 189},\n",
       " 107: {'prod_name': 'Soft Drinks', 'prod_qnt': 2250, 'prod_price': 49},\n",
       " 108: {'prod_name': 'Coffee', 'prod_qnt': 550, 'prod_price': 39},\n",
       " 109: {'prod_name': 'Sandwich', 'prod_qnt': 850, 'prod_price': 99},\n",
       " 110: {'prod_name': 'Samosa', 'prod_qnt': 1589, 'prod_price': 19},\n",
       " 111: {'prod_name': 'Chips', 'prod_qnt': 15000, 'prod_price': 49}}"
      ]
     },
     "execution_count": 31,
     "metadata": {},
     "output_type": "execute_result"
    }
   ],
   "source": [
    "attributes"
   ]
  },
  {
   "cell_type": "code",
   "execution_count": 32,
   "id": "173a27df",
   "metadata": {
    "collapsed": true
   },
   "outputs": [
    {
     "data": {
      "text/plain": [
       "dict_keys([101, 102, 103, 104, 105, 106, 107, 108, 109, 110, 111])"
      ]
     },
     "execution_count": 32,
     "metadata": {},
     "output_type": "execute_result"
    }
   ],
   "source": [
    "attributes.keys()"
   ]
  },
  {
   "cell_type": "code",
   "execution_count": 33,
   "id": "7a614760",
   "metadata": {},
   "outputs": [],
   "source": [
    "var=json.dumps(attributes)"
   ]
  },
  {
   "cell_type": "code",
   "execution_count": 34,
   "id": "5ef65f9a",
   "metadata": {
    "collapsed": true
   },
   "outputs": [
    {
     "data": {
      "text/plain": [
       "'{\"101\": {\"prod_name\": \"pizza\", \"prod_qnt\": 150, \"prod_price\": 299}, \"102\": {\"prod_name\": \"Burger\", \"prod_qnt\": 25, \"prod_price\": 199}, \"103\": {\"prod_name\": \"Noodles\", \"prod_qnt\": 1500, \"prod_price\": 99}, \"104\": {\"prod_name\": \"Veg Biriyani\", \"prod_qnt\": 50, \"prod_price\": 149}, \"105\": {\"prod_name\": \"pettis\", \"prod_qnt\": 950, \"prod_price\": 29}, \"106\": {\"prod_name\": \"Chicken Biriyani\", \"prod_qnt\": 100, \"prod_price\": 189}, \"107\": {\"prod_name\": \"Soft Drinks\", \"prod_qnt\": 2250, \"prod_price\": 49}, \"108\": {\"prod_name\": \"Coffee\", \"prod_qnt\": 550, \"prod_price\": 39}, \"109\": {\"prod_name\": \"Sandwich\", \"prod_qnt\": 850, \"prod_price\": 99}, \"110\": {\"prod_name\": \"Samosa\", \"prod_qnt\": 1589, \"prod_price\": 19}, \"111\": {\"prod_name\": \"Chips\", \"prod_qnt\": 15000, \"prod_price\": 49}}'"
      ]
     },
     "execution_count": 34,
     "metadata": {},
     "output_type": "execute_result"
    }
   ],
   "source": [
    "var"
   ]
  },
  {
   "cell_type": "code",
   "execution_count": 35,
   "id": "5483747b",
   "metadata": {},
   "outputs": [],
   "source": [
    "data=fd.write(var)"
   ]
  },
  {
   "cell_type": "code",
   "execution_count": 36,
   "id": "4ec6b7d1",
   "metadata": {},
   "outputs": [],
   "source": [
    "fd=open(\"record.json\",\"r\")\n",
    "new=fd.read()\n",
    "fd.close()"
   ]
  },
  {
   "cell_type": "code",
   "execution_count": 37,
   "id": "390c7537",
   "metadata": {
    "collapsed": true
   },
   "outputs": [
    {
     "data": {
      "text/plain": [
       "'{\"101\": {\"prod_name\": \"pizza\", \"prod_qnt\": 150, \"prod_price\": 299}, \"102\": {\"prod_name\": \"Burger\", \"prod_qnt\": 25, \"prod_price\": 199}, \"103\": {\"prod_name\": \"Noodles\", \"prod_qnt\": 1500, \"prod_price\": 99}, \"104\": {\"prod_name\": \"Veg Biriyani\", \"prod_qnt\": 50, \"prod_price\": 149}, \"105\": {\"prod_name\": \"pettis\", \"prod_qnt\": 950, \"prod_price\": 29}, \"106\": {\"prod_name\": \"Chicken Biriyani\", \"prod_qnt\": 100, \"prod_price\": 189}, \"107\": {\"prod_name\": \"Soft Drinks\", \"prod_qnt\": 2250, \"prod_price\": 49}, \"108\": {\"prod_name\": \"Coffee\", \"prod_qnt\": 550, \"prod_price\": 39}, \"109\": {\"prod_name\": \"Sandwich\", \"prod_qnt\": 850, \"prod_price\": 99}, \"110\": {\"prod_name\": \"Samosa\", \"prod_qnt\": 1589, \"prod_price\": 19}, \"111\": {\"prod_name\": \"Chips\", \"prod_qnt\": 15000, \"prod_price\": 49}}'"
      ]
     },
     "execution_count": 37,
     "metadata": {},
     "output_type": "execute_result"
    }
   ],
   "source": [
    "new"
   ]
  },
  {
   "cell_type": "markdown",
   "id": "f4d75898",
   "metadata": {},
   "source": [
    "# Creating our Sales file"
   ]
  },
  {
   "cell_type": "code",
   "execution_count": 9,
   "id": "f245824b",
   "metadata": {},
   "outputs": [],
   "source": [
    "sales={}\n",
    "sales=json.dumps(sales)\n",
    "fd=open(\"sales.json\",\"w\")\n",
    "fd.write(sales)\n",
    "fd.close()\n",
    "\n",
    "fd=open(\"sales.json\",\"r\")\n",
    "sl=fd.read()\n",
    "sales=json.loads(sl)\n"
   ]
  },
  {
   "cell_type": "markdown",
   "id": "c48f3fec",
   "metadata": {},
   "source": [
    "# Add new items into the Inventory"
   ]
  },
  {
   "cell_type": "code",
   "execution_count": 38,
   "id": "1cdb5595",
   "metadata": {
    "collapsed": true
   },
   "outputs": [
    {
     "name": "stdout",
     "output_type": "stream",
     "text": [
      "Enter the product id:118\n",
      "Enter product name to add:kurkure\n",
      "enter the product quantity:50\n",
      "Enter the product Price:10\n"
     ]
    }
   ],
   "source": [
    "id=int(input(\"Enter the product id:\"))\n",
    "if id not in attributes.keys():\n",
    "    name=input(\"Enter product name to add:\")\n",
    "    qnt=int(input(\"enter the product quantity:\"))\n",
    "    price=int(input(\"Enter the product Price:\"))\n",
    "    attributes[id]={\"prod_name\":name,\"prod_qnt\":qnt,\"prod_price\":price}\n",
    "    js=json.dumps(attributes)\n",
    "    \n",
    "    fd=open(\"record.json\",\"w\")\n",
    "    fd.write(js)\n",
    "    fd.close()\n",
    "else:\n",
    "    print(\"Product is allready exist!!\")\n",
    "    "
   ]
  },
  {
   "cell_type": "code",
   "execution_count": 49,
   "id": "97d1d02b",
   "metadata": {
    "collapsed": true
   },
   "outputs": [
    {
     "data": {
      "text/plain": [
       "{101: {'prod_name': 'pizza', 'prod_qnt': 150, 'prod_price': 299},\n",
       " 102: {'prod_name': 'Burger', 'prod_qnt': 25, 'prod_price': 199},\n",
       " 103: {'prod_name': 'Noodles', 'prod_qnt': 1500, 'prod_price': 99},\n",
       " 104: {'prod_name': 'Veg Biriyani', 'prod_qnt': 50, 'prod_price': 149},\n",
       " 105: {'prod_name': 'pettis', 'prod_qnt': 950, 'prod_price': 29},\n",
       " 106: {'prod_name': 'Chicken Biriyani', 'prod_qnt': 100, 'prod_price': 189},\n",
       " 107: {'prod_name': 'Soft Drinks', 'prod_qnt': 2250, 'prod_price': 49},\n",
       " 108: {'prod_name': 'Coffee', 'prod_qnt': 550, 'prod_price': 39},\n",
       " 109: {'prod_name': 'Sandwich', 'prod_qnt': 850, 'prod_price': 99},\n",
       " 110: {'prod_name': 'Samosa', 'prod_qnt': 1589, 'prod_price': 19},\n",
       " 111: {'prod_name': 'Chips', 'prod_qnt': 14980, 'prod_price': 49},\n",
       " 118: {'prod_name': 'kurkure', 'prod_qnt': 50, 'prod_price': 10}}"
      ]
     },
     "execution_count": 49,
     "metadata": {},
     "output_type": "execute_result"
    }
   ],
   "source": [
    "attributes"
   ]
  },
  {
   "cell_type": "markdown",
   "id": "579f86f5",
   "metadata": {},
   "source": [
    "# Menu bar"
   ]
  },
  {
   "cell_type": "code",
   "execution_count": 40,
   "id": "9403b089",
   "metadata": {
    "collapsed": true
   },
   "outputs": [
    {
     "name": "stdout",
     "output_type": "stream",
     "text": [
      "------------------------------------------\n",
      "----------------Here is our Menu bar-----------------------------\n",
      "101 pizza\n",
      "102 Burger\n",
      "103 Noodles\n",
      "104 Veg Biriyani\n",
      "105 pettis\n",
      "106 Chicken Biriyani\n",
      "107 Soft Drinks\n",
      "108 Coffee\n",
      "109 Sandwich\n",
      "110 Samosa\n",
      "111 Chips\n",
      "118 kurkure\n"
     ]
    }
   ],
   "source": [
    "print(\"------------------------------------------\")\n",
    "print(\"----------------Here is our Menu bar-----------------------------\")\n",
    "for i in attributes.keys():\n",
    "    print(i,       attributes[i][\"prod_name\"])"
   ]
  },
  {
   "cell_type": "markdown",
   "id": "489f430f",
   "metadata": {},
   "source": [
    "# Bill Generation"
   ]
  },
  {
   "cell_type": "code",
   "execution_count": 10,
   "id": "fee52e94",
   "metadata": {
    "collapsed": true
   },
   "outputs": [
    {
     "name": "stdout",
     "output_type": "stream",
     "text": [
      "Enter the product id:107\n",
      "Enter the quantity you want to buy:12\n",
      "product name: Soft Drinks\n",
      "product price per unit: 49\n",
      "quantity you have purchased: 12\n",
      "--------------------------------------------------------\n",
      "--------------------------------------------------------\n",
      "Your bill is under processing!!!!!\n",
      "your billing amount is: 588\n",
      "$$$$$44$$$ purchase time: Sat Sep 11 00:28:41 2021 $$$$$$$$$$$\n"
     ]
    }
   ],
   "source": [
    "id=int(input(\"Enter the product id:\"))\n",
    "quantity=int(input(\"Enter the quantity you want to buy:\"))\n",
    "if(id in attributes.keys()):\n",
    "    if(attributes[id][\"prod_qnt\"]>=quantity):\n",
    "        print(\"product name:\",attributes[id][\"prod_name\"])\n",
    "        print(\"product price per unit:\",attributes[id][\"prod_price\"])\n",
    "        print(\"quantity you have purchased:\",quantity)\n",
    "        \n",
    "        \n",
    "        print(\"--------------------------------------------------------\")\n",
    "        print(\"--------------------------------------------------------\")\n",
    "        print(\"Your bill is under processing!!!!!\")\n",
    "        \n",
    "        \n",
    "        print(\"your billing amount is:\",attributes[id][\"prod_price\"]*quantity)\n",
    "        print(\"$$$$$44$$$ purchase time:\",time.ctime(),\"$$$$$$$$$$$\")\n",
    "        attributes[id][\"prod_qnt\"]=attributes[id][\"prod_qnt\"]-quantity\n",
    "        #updating our inventory\n",
    "        sales[str(len(sales)+1)]={\"product id\":id,\"product name\":attributes[id][\"prod_name\"],\n",
    "                                  \"biiling amount\":attributes[id][\"prod_price\"]*quantity,\n",
    "                                 \"purchasing time\":time.ctime()}\n",
    "    else:\n",
    "        print(\"we have only\", attributes[id][\"prod_qnt\"], attributes[id][\"prod_name\"],\"available\")\n",
    "        print(\"Do you want to continue shopping with us\")\n",
    "        ch=str(input(\"Y/N\"))\n",
    "        if(ch==\"Y\"):\n",
    "            print(\"product name:\",attributes[id][\"prod_name\"])\n",
    "            print(\"product price per unit:\",attributes[id][\"prod_price\"])\n",
    "            print(\"quantity you have purchased:\",attributes[id][\"prod_qnt\"])\n",
    "           \n",
    "        \n",
    "        \n",
    "            print(\"--------------------------------------------------------\")\n",
    "            print(\"--------------------------------------------------------\")\n",
    "            print(\"Your bill is under processing!!!!!\")\n",
    "        \n",
    "        \n",
    "            print(\"your billing amount is:\",attributes[id][\"prod_price\"]*attributes[id][\"prod_qnt\"])\n",
    "            attributes[id][\"prod_qnt\"]=0\n",
    "            sales[str(len(sales)+1)]={\"product id\":id,\"product name\":attributes[id][\"prod_name\"],\n",
    "                                  \"biiling amount\":attributes[id][\"prod_price\"]*attributes[id][\"prod_qnt\"],\n",
    "                                 \"purchasing time\":time.ctime()}\n",
    "            \n",
    "        else:\n",
    "            print(\"Thank you!!!!!!\")\n",
    "        \n",
    "else:\n",
    "    print(\"We have not such product Found\")\n",
    "    print(\"Thank you, Visit again!!!\")\n",
    "\n",
    "            "
   ]
  },
  {
   "cell_type": "markdown",
   "id": "41b19d5c",
   "metadata": {},
   "source": [
    "# Updating our sales and record file"
   ]
  },
  {
   "cell_type": "code",
   "execution_count": 11,
   "id": "fb487cd7",
   "metadata": {
    "collapsed": true
   },
   "outputs": [
    {
     "name": "stdout",
     "output_type": "stream",
     "text": [
      "Data updated in sales file\n",
      "Data updated in record file.....\n"
     ]
    }
   ],
   "source": [
    "sl=json.dumps(sales)\n",
    "fd=open(\"sales.json\",\"w\")\n",
    "fd.write(sl)\n",
    "fd.close()\n",
    "\n",
    "print(\"Data updated in sales file\")\n",
    "\n",
    "js=json.dumps(attributes)\n",
    "fd=open(\"record.json\",\"w\")\n",
    "fd.write(js)\n",
    "fd.close()\n",
    "\n",
    "print(\"Data updated in record file.....\")"
   ]
  },
  {
   "cell_type": "code",
   "execution_count": 12,
   "id": "33869428",
   "metadata": {
    "collapsed": true
   },
   "outputs": [
    {
     "data": {
      "text/plain": [
       "{101: {'prod_name': 'pizza', 'prod_qnt': 150, 'prod_price': 299},\n",
       " 102: {'prod_name': 'Burger', 'prod_qnt': 25, 'prod_price': 199},\n",
       " 103: {'prod_name': 'Noodles', 'prod_qnt': 1500, 'prod_price': 99},\n",
       " 104: {'prod_name': 'Veg Biriyani', 'prod_qnt': 50, 'prod_price': 149},\n",
       " 105: {'prod_name': 'pettis', 'prod_qnt': 950, 'prod_price': 29},\n",
       " 106: {'prod_name': 'Chicken Biriyani', 'prod_qnt': 100, 'prod_price': 189},\n",
       " 107: {'prod_name': 'Soft Drinks', 'prod_qnt': 2238, 'prod_price': 49},\n",
       " 108: {'prod_name': 'Coffee', 'prod_qnt': 550, 'prod_price': 39},\n",
       " 109: {'prod_name': 'Sandwich', 'prod_qnt': 830, 'prod_price': 99},\n",
       " 110: {'prod_name': 'Samosa', 'prod_qnt': 1566, 'prod_price': 19},\n",
       " 111: {'prod_name': 'Chips', 'prod_qnt': 14980, 'prod_price': 49}}"
      ]
     },
     "execution_count": 12,
     "metadata": {},
     "output_type": "execute_result"
    }
   ],
   "source": [
    "attributes"
   ]
  },
  {
   "cell_type": "code",
   "execution_count": 13,
   "id": "3b17e8cc",
   "metadata": {
    "collapsed": true
   },
   "outputs": [
    {
     "data": {
      "text/plain": [
       "{'1': {'product id': 107,\n",
       "  'product name': 'Soft Drinks',\n",
       "  'biiling amount': 588,\n",
       "  'purchasing time': 'Sat Sep 11 00:28:41 2021'}}"
      ]
     },
     "execution_count": 13,
     "metadata": {},
     "output_type": "execute_result"
    }
   ],
   "source": [
    "sales"
   ]
  },
  {
   "cell_type": "code",
   "execution_count": null,
   "id": "32c88ff2",
   "metadata": {},
   "outputs": [],
   "source": []
  }
 ],
 "metadata": {
  "kernelspec": {
   "display_name": "Python 3",
   "language": "python",
   "name": "python3"
  },
  "language_info": {
   "codemirror_mode": {
    "name": "ipython",
    "version": 3
   },
   "file_extension": ".py",
   "mimetype": "text/x-python",
   "name": "python",
   "nbconvert_exporter": "python",
   "pygments_lexer": "ipython3",
   "version": "3.8.8"
  }
 },
 "nbformat": 4,
 "nbformat_minor": 5
}
